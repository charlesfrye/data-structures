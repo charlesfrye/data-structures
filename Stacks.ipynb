{
  "nbformat": 4,
  "nbformat_minor": 0,
  "metadata": {
    "colab": {
      "name": "Stacks.ipynb",
      "private_outputs": true,
      "provenance": [],
      "collapsed_sections": [],
      "authorship_tag": "ABX9TyPUS8GhgaetiNXdAcCEKIle",
      "include_colab_link": true
    },
    "kernelspec": {
      "name": "python3",
      "display_name": "Python 3"
    },
    "language_info": {
      "name": "python"
    }
  },
  "cells": [
    {
      "cell_type": "markdown",
      "metadata": {
        "id": "view-in-github",
        "colab_type": "text"
      },
      "source": [
        "<a href=\"https://colab.research.google.com/github/charlesfrye/data-structures/blob/main/Stacks.ipynb\" target=\"_parent\"><img src=\"https://colab.research.google.com/assets/colab-badge.svg\" alt=\"Open In Colab\"/></a>"
      ]
    },
    {
      "cell_type": "markdown",
      "metadata": {
        "id": "pYvg7TYfDBQe"
      },
      "source": [
        "This notebook defines a stack (FILO) data structure,\n",
        "based on the Python list.\n",
        "\n",
        "It applies the stack to solving the balanced parens problem and to conversion from decimal to binary."
      ]
    },
    {
      "cell_type": "code",
      "metadata": {
        "id": "Wa7i94IoFDEl"
      },
      "source": [
        "class Stack(object):\n",
        "\n",
        "  def __init__(self):\n",
        "    self.items = []\n",
        "\n",
        "  def is_empty(self):\n",
        "    return self.items == []\n",
        "\n",
        "  def push(self, item):\n",
        "    self.items.append(item)\n",
        "\n",
        "  def pop(self):\n",
        "    return self.items.pop()\n",
        "\n",
        "  def peek(self):\n",
        "    return self.items[-1]\n",
        "\n",
        "  def size(self):\n",
        "    return len(self.items)\n",
        "\n",
        "  def __str__(self):\n",
        "    return str(list(reversed(self.items)))\n",
        "\n",
        "  def __repr__(self):\n",
        "    return str(self)\n",
        "\n",
        "  def __iter__(self):\n",
        "    return self\n",
        "\n",
        "  def __next__(self):\n",
        "    try:\n",
        "      return self.pop()\n",
        "    except IndexError:\n",
        "      raise StopIteration"
      ],
      "execution_count": null,
      "outputs": []
    },
    {
      "cell_type": "code",
      "metadata": {
        "id": "qb6_oO_CFhUD"
      },
      "source": [
        "s = Stack()\n",
        "s.push(4), s.push(\"dog\")\n",
        "s"
      ],
      "execution_count": null,
      "outputs": []
    },
    {
      "cell_type": "code",
      "metadata": {
        "id": "A-7CAmIlF2aL"
      },
      "source": [
        "s.peek()"
      ],
      "execution_count": null,
      "outputs": []
    },
    {
      "cell_type": "code",
      "metadata": {
        "id": "9dwS6rVzHN8M"
      },
      "source": [
        "[elem for elem in s]"
      ],
      "execution_count": null,
      "outputs": []
    },
    {
      "cell_type": "code",
      "metadata": {
        "id": "XnJvMUtxGbvd"
      },
      "source": [
        "def reverse_string(string):\n",
        "  reverser = Stack()\n",
        "  [reverser.push(char) for char in string]\n",
        "  return \"\".join(char for char in reverser)"
      ],
      "execution_count": null,
      "outputs": []
    },
    {
      "cell_type": "code",
      "metadata": {
        "id": "4hwInPbLGrjy"
      },
      "source": [
        "reverse_string(\"abcd\")"
      ],
      "execution_count": null,
      "outputs": []
    },
    {
      "cell_type": "code",
      "metadata": {
        "id": "UUGGKNTPHZBV"
      },
      "source": [
        "def parenchecker(string, symbols=(\"(\", \")\")):\n",
        "  matcher = Stack()\n",
        "  symbols = {\"left\": symbols[0], \"right\": symbols[1]}\n",
        "  for char in string:\n",
        "    if char in symbols[\"left\"]:\n",
        "      matcher.push(char)\n",
        "    elif char in symbols[\"right\"]:\n",
        "      try:\n",
        "        matcher.pop()\n",
        "      except IndexError:\n",
        "        return False\n",
        "  return matcher.is_empty()"
      ],
      "execution_count": null,
      "outputs": []
    },
    {
      "cell_type": "code",
      "metadata": {
        "id": "9HmUTWJ3IZJT"
      },
      "source": [
        "print(parenchecker('((()))'))\n",
        "print(parenchecker('(()'))"
      ],
      "execution_count": null,
      "outputs": []
    },
    {
      "cell_type": "code",
      "metadata": {
        "id": "GaJtWVyAI7zC"
      },
      "source": [
        "SYMBOLS = (\"({[\", \")}]\")\n",
        "\n",
        "def parenchecker(string, symbols=SYMBOLS):\n",
        "  matcher = Stack()\n",
        "  symbols = {\"left\": symbols[0], \"right\": symbols[1]}\n",
        "  for char in string:\n",
        "    if char in symbols[\"left\"]:\n",
        "      matcher.push(char)\n",
        "    elif char in symbols[\"right\"]:\n",
        "      try:\n",
        "        top = matcher.pop()\n",
        "        if not matches(top, char):\n",
        "          return False\n",
        "      except IndexError:\n",
        "        return False\n",
        "  return matcher.is_empty()\n",
        "\n",
        "def matches(left, right):\n",
        "  return SYMBOLS[0].index(left) == SYMBOLS[1].index(right)"
      ],
      "execution_count": null,
      "outputs": []
    },
    {
      "cell_type": "code",
      "metadata": {
        "id": "FiHTeTsHJ2nq"
      },
      "source": [
        "print(parenchecker('{({([][])}())}'))\n",
        "print(parenchecker('[{()]'))"
      ],
      "execution_count": null,
      "outputs": []
    },
    {
      "cell_type": "code",
      "metadata": {
        "id": "41SVtQHwLYVc"
      },
      "source": [
        "def to_binary(decimal):\n",
        "  remainders = Stack()\n",
        "\n",
        "  while decimal > 0:\n",
        "    remainders.push(decimal % 2)\n",
        "    decimal //= 2\n",
        "\n",
        "  binary = \"\".join(str(rem) for rem in remainders)\n",
        "\n",
        "  return binary"
      ],
      "execution_count": null,
      "outputs": []
    }
  ]
}