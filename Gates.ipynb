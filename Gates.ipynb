{
  "nbformat": 4,
  "nbformat_minor": 0,
  "metadata": {
    "colab": {
      "name": "Gates.ipynb",
      "private_outputs": true,
      "provenance": [],
      "collapsed_sections": [],
      "authorship_tag": "ABX9TyM5x6pWyzhaYS/NR35TM0s0",
      "include_colab_link": true
    },
    "kernelspec": {
      "name": "python3",
      "display_name": "Python 3"
    },
    "language_info": {
      "name": "python"
    }
  },
  "cells": [
    {
      "cell_type": "markdown",
      "metadata": {
        "id": "view-in-github",
        "colab_type": "text"
      },
      "source": [
        "<a href=\"https://colab.research.google.com/github/charlesfrye/data-structures/blob/main/Gates.ipynb\" target=\"_parent\"><img src=\"https://colab.research.google.com/assets/colab-badge.svg\" alt=\"Open In Colab\"/></a>"
      ]
    },
    {
      "cell_type": "markdown",
      "metadata": {
        "id": "pv5LMtZiCchA"
      },
      "source": [
        "This notebook implements some basic logic gates\n",
        "using abstract base classes.\n",
        "\n",
        "Input is fed to gates by the user."
      ]
    },
    {
      "cell_type": "code",
      "metadata": {
        "id": "0yplPtvfs2-H"
      },
      "source": [
        "from abc import ABC, abstractmethod\n",
        "\n",
        "class LogicGate(ABC):\n",
        "\n",
        "  def __init__(self, label):\n",
        "    self.label = label\n",
        "    self.output = None\n",
        "\n",
        "  def get_label(self):\n",
        "    return self.label\n",
        "\n",
        "  def get_output(self):\n",
        "    self.output = self.run_gate()\n",
        "    return self.output\n",
        "\n",
        "  @abstractmethod\n",
        "  def run_gate(self):\n",
        "    pass\n",
        "\n",
        "  def __str__(self):\n",
        "    return str(self.get_label())"
      ],
      "execution_count": null,
      "outputs": []
    },
    {
      "cell_type": "code",
      "metadata": {
        "id": "WXLcLiygtk7o"
      },
      "source": [
        "class BinaryGate(LogicGate):\n",
        "  \n",
        "  def __init__(self, label):\n",
        "    super().__init__(label)\n",
        "\n",
        "    self.left = None\n",
        "    self.right = None\n",
        "\n",
        "  def get_left(self):\n",
        "    if self.left is None:\n",
        "      return int(input(f\"Enter left input for gate {self}-->\"))\n",
        "    else:\n",
        "      return self.left.get_frm().get_output()\n",
        "\n",
        "  def get_right(self):\n",
        "    if self.right is None:\n",
        "      return int(input(f\"Enter right input for gate {self}-->\"))\n",
        "    else:\n",
        "      return self.right.get_frm().get_output()"
      ],
      "execution_count": null,
      "outputs": []
    },
    {
      "cell_type": "code",
      "metadata": {
        "id": "ey0bkgoxuQ9v"
      },
      "source": [
        "class UnaryGate(LogicGate):\n",
        "\n",
        "    def __init__(self, label):\n",
        "        super().__init__(label)\n",
        "\n",
        "        self.pin = None\n",
        "\n",
        "    def get_pin(self):\n",
        "      if self.pin is None:\n",
        "        return int(input(f\"Enter input for gate {self}-->\"))\n",
        "      else:\n",
        "        return self.pin.get_frm().get_output()"
      ],
      "execution_count": null,
      "outputs": []
    },
    {
      "cell_type": "code",
      "metadata": {
        "id": "1lwytfpAuZjg"
      },
      "source": [
        "class AndGate(BinaryGate):\n",
        "\n",
        "    def __init__(self, label):\n",
        "        super().__init__(label)\n",
        "\n",
        "    def run_gate(self):\n",
        "        left, right = self.get_left(), self.get_right()\n",
        "        return left and right"
      ],
      "execution_count": null,
      "outputs": []
    },
    {
      "cell_type": "code",
      "metadata": {
        "id": "h-QkWxTsu63n"
      },
      "source": [
        "g1 = AndGate(\"G1\")"
      ],
      "execution_count": null,
      "outputs": []
    },
    {
      "cell_type": "code",
      "metadata": {
        "id": "GIzis2hovBdy"
      },
      "source": [
        "g1.get_output()"
      ],
      "execution_count": null,
      "outputs": []
    },
    {
      "cell_type": "code",
      "metadata": {
        "id": "7aMK89_6vawf"
      },
      "source": [
        "class OrGate(BinaryGate):\n",
        "\n",
        "    def __init__(self, label):\n",
        "        super().__init__(label)\n",
        "\n",
        "    def run_gate(self):\n",
        "        left, right = self.get_left(), self.get_right()\n",
        "        return left or right"
      ],
      "execution_count": null,
      "outputs": []
    },
    {
      "cell_type": "code",
      "metadata": {
        "id": "yapyPyemvdv1"
      },
      "source": [
        "class NotGate(UnaryGate):\n",
        "\n",
        "    def __init__(self, label):\n",
        "        super().__init__(label)\n",
        "\n",
        "    def run_gate(self):\n",
        "        input = self.get_pin()\n",
        "        return not input"
      ],
      "execution_count": null,
      "outputs": []
    },
    {
      "cell_type": "code",
      "metadata": {
        "id": "tqpL86v1v-la"
      },
      "source": [
        "class IdGate(UnaryGate):\n",
        "\n",
        "    def __init__(self, label):\n",
        "        super().__init__(label)\n",
        "\n",
        "    def run_gate(self):\n",
        "        input = self.get_pin()\n",
        "        return input"
      ],
      "execution_count": null,
      "outputs": []
    },
    {
      "cell_type": "code",
      "metadata": {
        "id": "h_ywE2dDv86J"
      },
      "source": [
        "class Connector(object):\n",
        "\n",
        "    def __init__(self, frm, to):\n",
        "        self.frm = frm\n",
        "        self.to = to\n",
        "\n",
        "        self.to.set_next_pin(self)\n",
        "\n",
        "    def get_frm(self):\n",
        "        return self.frm\n",
        "\n",
        "    def get_to(self):\n",
        "        return self.to\n",
        "\n",
        "    def __str__(self):\n",
        "      return str(self.frm) + \"->\" + str(self.to)"
      ],
      "execution_count": null,
      "outputs": []
    },
    {
      "cell_type": "code",
      "metadata": {
        "id": "-l460QUcwZy1"
      },
      "source": [
        "def set_next_pin(self, source):\n",
        "  if self.left == None:\n",
        "    self.left = source\n",
        "  else:\n",
        "    if self.right == None:\n",
        "      self.right = source\n",
        "    else:\n",
        "      raise RuntimeError(f\"No empty pins on {self} for connector {source}\")\n",
        "\n",
        "BinaryGate.set_next_pin = set_next_pin\n",
        "\n",
        "def set_next_pin(self, source):\n",
        "  if self.pin is None:\n",
        "    self.pin = source\n",
        "  else:\n",
        "    raise RuntimeError(f\"No empty pins on {self} for connector {source}\")\n",
        "\n",
        "UnaryGate.set_next_pin = set_next_pin"
      ],
      "execution_count": null,
      "outputs": []
    },
    {
      "cell_type": "code",
      "metadata": {
        "id": "wvB97LkTyKFT"
      },
      "source": [
        "g1 = AndGate(\"G1\")\n",
        "g2 = AndGate(\"G2\")\n",
        "g3 = OrGate(\"G3\")\n",
        "g4 = NotGate(\"G4\")\n",
        "c1 = Connector(g1,g3)\n",
        "c2 = Connector(g2,g3)\n",
        "c3 = Connector(g3,g4)\n",
        "print(g4.get_output())"
      ],
      "execution_count": null,
      "outputs": []
    },
    {
      "cell_type": "code",
      "metadata": {
        "id": "8t22aouXyYvO"
      },
      "source": [
        "str(c3)"
      ],
      "execution_count": null,
      "outputs": []
    },
    {
      "cell_type": "code",
      "metadata": {
        "id": "UCQclkPQzjTg"
      },
      "source": [
        ""
      ],
      "execution_count": null,
      "outputs": []
    }
  ]
}