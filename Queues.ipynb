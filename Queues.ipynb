{
  "nbformat": 4,
  "nbformat_minor": 0,
  "metadata": {
    "colab": {
      "name": "Queues.ipynb",
      "private_outputs": true,
      "provenance": [],
      "collapsed_sections": [],
      "authorship_tag": "ABX9TyO3qVCF1EHEauyy0ZhXS2WX",
      "include_colab_link": true
    },
    "kernelspec": {
      "name": "python3",
      "display_name": "Python 3"
    },
    "language_info": {
      "name": "python"
    }
  },
  "cells": [
    {
      "cell_type": "markdown",
      "metadata": {
        "id": "view-in-github",
        "colab_type": "text"
      },
      "source": [
        "<a href=\"https://colab.research.google.com/github/charlesfrye/data-structures/blob/main/Queues.ipynb\" target=\"_parent\"><img src=\"https://colab.research.google.com/assets/colab-badge.svg\" alt=\"Open In Colab\"/></a>"
      ]
    },
    {
      "cell_type": "markdown",
      "metadata": {
        "id": "XhUWkC6EDzBC"
      },
      "source": [
        "This notebook defines a queue (FIFO) data structure,\n",
        "based on the Python list.\n",
        "\n",
        "It applies the queue to a game of hot potato\n",
        "and a (simulated) print job queue."
      ]
    },
    {
      "cell_type": "code",
      "metadata": {
        "id": "7N-RmZVvXcac"
      },
      "source": [
        "class Queue(object):\n",
        "\n",
        "  def __init__(self):\n",
        "    self.items = []\n",
        "\n",
        "  def __str__(self):\n",
        "    return str(self.items)"
      ],
      "execution_count": null,
      "outputs": []
    },
    {
      "cell_type": "code",
      "metadata": {
        "id": "fbbB8GV9Y6sc"
      },
      "source": [
        "def enqueue(self, item):\n",
        "  self.items.insert(0, item)\n",
        "\n",
        "def dequeue(self):\n",
        "  return self.items.pop()\n",
        "\n",
        "def is_empty(self):\n",
        "  return self.items == []\n",
        "\n",
        "def __len__(self):\n",
        "  return len(self.items)\n",
        "\n",
        "def size(self):\n",
        "  return len(self)\n",
        "\n",
        "Queue.enqueue, Queue.dequeue = enqueue, dequeue\n",
        "Queue.is_empty, Queue.__len__, Queue.size = is_empty, __len__, size"
      ],
      "execution_count": null,
      "outputs": []
    },
    {
      "cell_type": "code",
      "metadata": {
        "id": "Wk8RmaolZLsY"
      },
      "source": [
        "q = Queue()\n",
        "q.enqueue(4)\n",
        "q.enqueue('dog')\n",
        "q.enqueue(True)\n",
        "print(q.size())"
      ],
      "execution_count": null,
      "outputs": []
    },
    {
      "cell_type": "code",
      "metadata": {
        "id": "guWyz5yzaSjn"
      },
      "source": [
        "str(q)"
      ],
      "execution_count": null,
      "outputs": []
    },
    {
      "cell_type": "code",
      "metadata": {
        "id": "HVJ6gOFtaFX-"
      },
      "source": [
        "def cycle(self):\n",
        "  first = self.dequeue()\n",
        "  self.enqueue(first)\n",
        "\n",
        "Queue.cycle = cycle"
      ],
      "execution_count": null,
      "outputs": []
    },
    {
      "cell_type": "code",
      "metadata": {
        "id": "tqUhUzFVZ-S3"
      },
      "source": [
        "def hot_potato(names, num):\n",
        "  q = Queue()\n",
        "  [q.enqueue(name) for name in names]\n",
        "\n",
        "  while len(q) > 1:\n",
        "    [q.cycle() for ii in range(num)]\n",
        "    print(q.dequeue())\n",
        "\n",
        "  return q.dequeue()\n"
      ],
      "execution_count": null,
      "outputs": []
    },
    {
      "cell_type": "code",
      "metadata": {
        "id": "LmVj3uIxadD9"
      },
      "source": [
        "hot_potato([\"Bill\",\"David\",\"Susan\",\"Jane\",\"Kent\",\"Brad\"], 7)"
      ],
      "execution_count": null,
      "outputs": []
    },
    {
      "cell_type": "markdown",
      "metadata": {
        "id": "6ZXu2sr0g6a6"
      },
      "source": [
        "## Printer"
      ]
    },
    {
      "cell_type": "code",
      "metadata": {
        "id": "Ck2GSdC5g7ej"
      },
      "source": [
        "import random\n",
        "\n",
        "class Printer(object):\n",
        "  \n",
        "  def __init__(self, pages_per_minute=10):\n",
        "    self.rate = pages_per_minute\n",
        "    self.ticks_per_page = 60 / self.rate\n",
        "    self.current_task, self.last_task = None, None\n",
        "    self.ticks_remaining = 0\n",
        "\n",
        "  def on_tick(self, tick):\n",
        "    if self.is_busy:\n",
        "      self.ticks_remaining -= 1\n",
        "      if not self.ticks_remaining:\n",
        "        self.current_task.finish(tick)\n",
        "        self.last_task, self.current_task = self.current_task, None\n",
        "\n",
        "  def is_busy(self):\n",
        "    if self.current_task is not None:\n",
        "      return True\n",
        "    else:\n",
        "      return False\n",
        "\n",
        "  def start(self, new_task):\n",
        "    self.current_task = new_task\n",
        "    self.ticks_remaining = new_task.get_pages() * self.ticks_per_page\n",
        "\n",
        "\n",
        "class Task(object):\n",
        "\n",
        "  def __init__(self, time):\n",
        "    self.timestamp = time\n",
        "    self.pages = random.randint(1, 20)\n",
        "    self.waited = None\n",
        "\n",
        "  def get_timestamp(self):\n",
        "    return self.timestamp\n",
        "\n",
        "  def get_pages(self):\n",
        "    return self.pages\n",
        "\n",
        "  def wait_time(self, time):\n",
        "    return time - self.get_timestamp()\n",
        "\n",
        "  def finish(self, time):\n",
        "    self.waited = self.wait_time(time)"
      ],
      "execution_count": null,
      "outputs": []
    },
    {
      "cell_type": "code",
      "metadata": {
        "id": "YlmvXMkyhbyt"
      },
      "source": [
        "def simulate(num_ticks, pages_per_minute):\n",
        "\n",
        "    printer = Printer(pages_per_minute)\n",
        "    queue = Queue()\n",
        "    waiting_times = []\n",
        "\n",
        "    for tick in range(num_ticks):\n",
        "\n",
        "      if new_print_task(tick):\n",
        "         task = Task(tick)\n",
        "         queue.enqueue(task)\n",
        "\n",
        "      if not printer.is_busy() and not queue.is_empty():\n",
        "        next = queue.dequeue()\n",
        "        try:\n",
        "          waiting_times.append(printer.last_task.waited)\n",
        "        except AttributeError:\n",
        "          pass\n",
        "        printer.start(next)\n",
        "\n",
        "      printer.on_tick(tick)\n",
        "\n",
        "    average_wait = sum(waiting_times) / len(waiting_times)\n",
        "    print(f\"Average Wait {int(average_wait)} secs.\")\n",
        "    print(f\"{queue.size()} tasks remaining.\")\n",
        "\n",
        "def new_print_task(tick):\n",
        "    return random.randint(1, 180) == 180"
      ],
      "execution_count": null,
      "outputs": []
    },
    {
      "cell_type": "code",
      "metadata": {
        "id": "dVLRBTfCmPG8"
      },
      "source": [
        "simulate(3600, 5)"
      ],
      "execution_count": null,
      "outputs": []
    }
  ]
}