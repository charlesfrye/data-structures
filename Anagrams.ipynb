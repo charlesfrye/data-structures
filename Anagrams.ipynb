{
  "nbformat": 4,
  "nbformat_minor": 0,
  "metadata": {
    "colab": {
      "name": "Anagrams.ipynb",
      "private_outputs": true,
      "provenance": [],
      "collapsed_sections": [],
      "authorship_tag": "ABX9TyMYy2cAA0fIH/dPvcsErCkd",
      "include_colab_link": true
    },
    "kernelspec": {
      "name": "python3",
      "display_name": "Python 3"
    },
    "language_info": {
      "name": "python"
    }
  },
  "cells": [
    {
      "cell_type": "markdown",
      "metadata": {
        "id": "view-in-github",
        "colab_type": "text"
      },
      "source": [
        "<a href=\"https://colab.research.google.com/github/charlesfrye/data-structures/blob/main/Anagrams.ipynb\" target=\"_parent\"><img src=\"https://colab.research.google.com/assets/colab-badge.svg\" alt=\"Open In Colab\"/></a>"
      ]
    },
    {
      "cell_type": "markdown",
      "metadata": {
        "id": "VePmyAPTCyoG"
      },
      "source": [
        "This notebook defines several methods for checking\n",
        "whether a string is an anagram,\n",
        "based on lists, dictionaries, and counters."
      ]
    },
    {
      "cell_type": "code",
      "metadata": {
        "id": "onaqxWvK4eg8"
      },
      "source": [
        "def anagram_checkoff(s1, s2):\n",
        "  if len(s1) != len(s2):\n",
        "    return False\n",
        "\n",
        "  chars2 = list(s2)\n",
        "  for pos1, char1 in enumerate(s1):\n",
        "    found = False\n",
        "    for pos2, char2 in enumerate(chars2):\n",
        "      if char1 == char2:\n",
        "        found = True\n",
        "        chars2[pos2] = None\n",
        "        break\n",
        "\n",
        "    if not found:\n",
        "      return False\n",
        "\n",
        "  return True\n",
        "\n",
        "print(anagram_checkoff('abcd','dcba'))\n",
        "print(anagram_checkoff(\"aeurbfae\", \"aeurbfae\"))"
      ],
      "execution_count": null,
      "outputs": []
    },
    {
      "cell_type": "code",
      "metadata": {
        "id": "CzbVh9eq6tL0"
      },
      "source": [
        "def anagram_sort(s1,s2):\n",
        "    s1, s2 = sorted(s1), sorted(s2)\n",
        "\n",
        "    return all(c1 == c2 for c1, c2 in zip(s1, s2))\n",
        "\n",
        "print(anagram_sort('abcde','edcba'))\n",
        "print(anagram_sort(\"aeurbfae\", \"aeurbfaf\"))"
      ],
      "execution_count": null,
      "outputs": []
    },
    {
      "cell_type": "code",
      "metadata": {
        "id": "CxDWvEx-7f-K"
      },
      "source": [
        "import string"
      ],
      "execution_count": null,
      "outputs": []
    },
    {
      "cell_type": "code",
      "metadata": {
        "id": "LZePNQ4H7aMt"
      },
      "source": [
        "def anagram_counter(s1, s2):\n",
        "    counter_1 = {ltr: 0 for ltr in string.ascii_lowercase}\n",
        "    counter_2 = {ltr: 0 for ltr in string.ascii_lowercase}\n",
        "\n",
        "    for char in s1:\n",
        "      counter_1[char] += 1\n",
        "\n",
        "    for char in s2:\n",
        "      counter_2[char] += 1\n",
        "\n",
        "    return counter_1 == counter_2\n",
        "\n",
        "print(anagram_counter('apple','pleap'))\n"
      ],
      "execution_count": null,
      "outputs": []
    },
    {
      "cell_type": "code",
      "metadata": {
        "id": "OFQLHq6u8kRB"
      },
      "source": [
        "from collections import Counter"
      ],
      "execution_count": null,
      "outputs": []
    },
    {
      "cell_type": "code",
      "metadata": {
        "id": "sS2d2zQ48dNa"
      },
      "source": [
        " def anagram_counter_easy(string1, string2):\n",
        "   return Counter(string1) == Counter(string2)"
      ],
      "execution_count": null,
      "outputs": []
    },
    {
      "cell_type": "code",
      "metadata": {
        "id": "BJAspo4z8qcI"
      },
      "source": [
        "anagram_counter_easy(\"apple\", \"pleapp\")"
      ],
      "execution_count": null,
      "outputs": []
    }
  ]
}