{
  "nbformat": 4,
  "nbformat_minor": 0,
  "metadata": {
    "colab": {
      "name": "Expressions.ipynb",
      "private_outputs": true,
      "provenance": [],
      "collapsed_sections": [],
      "authorship_tag": "ABX9TyNemRRaKZUHjDKUveeuDnDD",
      "include_colab_link": true
    },
    "kernelspec": {
      "name": "python3",
      "display_name": "Python 3"
    },
    "language_info": {
      "name": "python"
    }
  },
  "cells": [
    {
      "cell_type": "markdown",
      "metadata": {
        "id": "view-in-github",
        "colab_type": "text"
      },
      "source": [
        "<a href=\"https://colab.research.google.com/github/charlesfrye/data-structures/blob/main/Expressions.ipynb\" target=\"_parent\"><img src=\"https://colab.research.google.com/assets/colab-badge.svg\" alt=\"Open In Colab\"/></a>"
      ]
    },
    {
      "cell_type": "markdown",
      "metadata": {
        "id": "2faLa1DWDbyI"
      },
      "source": [
        "This notebook applies a stack (FILO) data structure\n",
        "to manipulation of algebraic expressions."
      ]
    },
    {
      "cell_type": "code",
      "metadata": {
        "id": "bBBNTRG2LVvm"
      },
      "source": [
        "class Stack(object):\n",
        "\n",
        "  def __init__(self):\n",
        "    self.items = []\n",
        "\n",
        "  def is_empty(self):\n",
        "    return self.items == []\n",
        "\n",
        "  def push(self, item):\n",
        "    self.items.append(item)\n",
        "\n",
        "  def pop(self):\n",
        "    return self.items.pop()\n",
        "\n",
        "  def peek(self):\n",
        "    return self.items[-1]\n",
        "\n",
        "  def size(self):\n",
        "    return len(self.items)\n",
        "\n",
        "  def __str__(self):\n",
        "    return str(list(reversed(self.items)))\n",
        "\n",
        "  def __repr__(self):\n",
        "    return str(self)\n",
        "\n",
        "  def __iter__(self):\n",
        "    return self\n",
        "\n",
        "  def __next__(self):\n",
        "    try:\n",
        "      return self.pop()\n",
        "    except IndexError:\n",
        "      raise StopIteration"
      ],
      "execution_count": null,
      "outputs": []
    },
    {
      "cell_type": "code",
      "metadata": {
        "id": "LGyT50agNRx4"
      },
      "source": [
        "from functools import lru_cache"
      ],
      "execution_count": null,
      "outputs": []
    },
    {
      "cell_type": "code",
      "metadata": {
        "id": "pCIU09H3L3nS"
      },
      "source": [
        "class Token(str):\n",
        "\n",
        "  def __init__(self, char):\n",
        "    self.char = char\n",
        "\n",
        "  @staticmethod\n",
        "  @lru_cache(maxsize=None)\n",
        "  def precedence(char):\n",
        "    if char in [\"**\"]:\n",
        "      return 4\n",
        "    if char in [\"*\", \"/\"]:\n",
        "      return 3\n",
        "    elif char in [\"+\", \"-\"]:\n",
        "      return 2\n",
        "    elif char in [\"(\", \")\"]:\n",
        "      return 1\n",
        "    else:\n",
        "      return 0"
      ],
      "execution_count": null,
      "outputs": []
    },
    {
      "cell_type": "code",
      "metadata": {
        "id": "A9Ac8Cp9PEHT"
      },
      "source": [
        "def infix_to_postfix(expression):\n",
        "    operations = Stack()\n",
        "    postfix = []\n",
        "    tokens = expression.split()\n",
        "\n",
        "    for token in tokens:\n",
        "        if not Token.precedence(token):\n",
        "            postfix.append(token)\n",
        "        elif token == \"(\":\n",
        "            operations.push(token)\n",
        "        elif token == \")\":\n",
        "            top = operations.pop()\n",
        "            while top != \"(\":\n",
        "                postfix.append(top)\n",
        "                top = operations.pop()\n",
        "        else:\n",
        "            while (not operations.is_empty()) and \\\n",
        "               (Token.precedence(operations.peek())\n",
        "                 >= Token.precedence(token)):\n",
        "                  postfix.append(operations.pop())\n",
        "            operations.push(token)\n",
        "\n",
        "    while not operations.is_empty():\n",
        "        postfix.append(operations.pop())\n",
        "    return \" \".join(postfix)\n",
        "\n",
        "print(infix_to_postfix(\"A * B + C * D\"))\n",
        "print(infix_to_postfix(\"( A + B ) * C - ( D - E ) * ( F + G )\"))"
      ],
      "execution_count": null,
      "outputs": []
    },
    {
      "cell_type": "code",
      "metadata": {
        "id": "1YEeLa1bQhPw"
      },
      "source": [
        "\n",
        "print(infix_to_postfix(\"( A + B ) * ( C + D )\"))\n",
        "print(infix_to_postfix(\"( A + B ) * C\"))\n",
        "print(infix_to_postfix(\"A + B * C\"))"
      ],
      "execution_count": null,
      "outputs": []
    },
    {
      "cell_type": "code",
      "metadata": {
        "id": "fnrvE9QjSS5b"
      },
      "source": [
        "import operator\n",
        "\n",
        "operator_dict = {\n",
        "    \"+\": operator.add,\n",
        "    \"*\": operator.mul,\n",
        "    \"/\": operator.truediv,\n",
        "    \"-\": operator.sub,\n",
        "    \"**\": operator.pow,\n",
        "}"
      ],
      "execution_count": null,
      "outputs": []
    },
    {
      "cell_type": "code",
      "metadata": {
        "id": "KOc5fTSTRY6W"
      },
      "source": [
        "def evaluate_postfix(expression):\n",
        "  operands = Stack()\n",
        "  tokens = expression.split(\" \")\n",
        "\n",
        "  for token in tokens:\n",
        "    if not Token.precedence(token):\n",
        "      operands.push(int(token))\n",
        "    else:  # is operator\n",
        "      right_operand = operands.pop()\n",
        "      left_operand = operands.pop()\n",
        "      result = operator_dict[token](left_operand, right_operand)\n",
        "      operands.push(result)\n",
        "\n",
        "  return operands.pop()"
      ],
      "execution_count": null,
      "outputs": []
    },
    {
      "cell_type": "code",
      "metadata": {
        "id": "ePIU88CNTGed"
      },
      "source": [
        "print(evaluate_postfix(\"7 8 + 3 2 + /\"))"
      ],
      "execution_count": null,
      "outputs": []
    },
    {
      "cell_type": "code",
      "metadata": {
        "id": "c2PphBCDWeSb"
      },
      "source": [
        "print(infix_to_postfix(\"10 + 3 * 5 / ( 16 - 4 )\"))"
      ],
      "execution_count": null,
      "outputs": []
    },
    {
      "cell_type": "code",
      "metadata": {
        "id": "oq-1wJVSWfFX"
      },
      "source": [
        "evaluate_postfix(infix_to_postfix(\"10 + 3 * 5 / ( 16 - 4 )\"))"
      ],
      "execution_count": null,
      "outputs": []
    },
    {
      "cell_type": "code",
      "metadata": {
        "id": "Z2zj6IwpW4p3"
      },
      "source": [
        "infix_to_postfix(\"5 * 3 ** ( 4 - 2 )\")"
      ],
      "execution_count": null,
      "outputs": []
    },
    {
      "cell_type": "code",
      "metadata": {
        "id": "SBBcc2VvXDt0"
      },
      "source": [
        "evaluate_postfix(infix_to_postfix(\"5 * 3 ** ( 4 - 2 )\"))"
      ],
      "execution_count": null,
      "outputs": []
    },
    {
      "cell_type": "code",
      "metadata": {
        "id": "APHOULtwXAB-"
      },
      "source": [
        "eval(\"5 * 3 ** ( 4 - 2 )\")"
      ],
      "execution_count": null,
      "outputs": []
    }
  ]
}