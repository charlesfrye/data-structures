{
  "nbformat": 4,
  "nbformat_minor": 0,
  "metadata": {
    "colab": {
      "name": "LinkedList.ipynb",
      "private_outputs": true,
      "provenance": [],
      "collapsed_sections": [],
      "authorship_tag": "ABX9TyMJN8KdJDsIfK4m4+SXIUVJ",
      "include_colab_link": true
    },
    "kernelspec": {
      "name": "python3",
      "display_name": "Python 3"
    },
    "language_info": {
      "name": "python"
    }
  },
  "cells": [
    {
      "cell_type": "markdown",
      "metadata": {
        "id": "view-in-github",
        "colab_type": "text"
      },
      "source": [
        "<a href=\"https://colab.research.google.com/github/charlesfrye/data-structures/blob/main/LinkedList.ipynb\" target=\"_parent\"><img src=\"https://colab.research.google.com/assets/colab-badge.svg\" alt=\"Open In Colab\"/></a>"
      ]
    },
    {
      "cell_type": "markdown",
      "metadata": {
        "id": "Iik2iuW_FBDQ"
      },
      "source": [
        "This notebook implements a linked list in Python\n",
        "that matches (mostly) the interface of the list\n",
        "in the standard library.\n",
        "\n",
        "In particular,\n",
        "negative indices, slices, and operators (`+`, `*`)\n",
        "are not supported.\n",
        "\n",
        "This list type has fast prepends\n",
        "but just about everything else\n",
        "is $O(n)$."
      ]
    },
    {
      "cell_type": "code",
      "metadata": {
        "id": "XHl9J_VErY_r"
      },
      "source": [
        "class Node(object):\n",
        "    def __init__(self, data):\n",
        "        self.set_data(data)\n",
        "        self.set_next(None)\n",
        "\n",
        "    def get_data(self):\n",
        "        return self.data\n",
        "\n",
        "    def get_next(self):\n",
        "        return self.next\n",
        "\n",
        "    def set_data(self, data):\n",
        "        self.data = data\n",
        "\n",
        "    def set_next(self, next):\n",
        "        self.next = next"
      ],
      "execution_count": null,
      "outputs": []
    },
    {
      "cell_type": "code",
      "metadata": {
        "id": "ID8TDkNbr2B4"
      },
      "source": [
        "temp = Node(117)\n",
        "temp.get_data()"
      ],
      "execution_count": null,
      "outputs": []
    },
    {
      "cell_type": "code",
      "metadata": {
        "id": "nyOYa1jssGLy"
      },
      "source": [
        "class LinkedList(object):\n",
        "\n",
        "  def __init__(self):\n",
        "    self.head = None\n",
        "\n",
        "  def is_empty(self):\n",
        "    return self.head is None\n",
        "\n",
        "  def add(self, item):\n",
        "    tmp = Node(item)\n",
        "    tmp.set_next(self.head)\n",
        "    self.head = tmp"
      ],
      "execution_count": null,
      "outputs": []
    },
    {
      "cell_type": "code",
      "metadata": {
        "id": "UtVBGnMNswP6"
      },
      "source": [
        "def __len__(self):\n",
        "  current, count = self.head, 0\n",
        "  while current != None:\n",
        "    count += 1\n",
        "    current = current.get_next()\n",
        "  return count\n",
        "\n",
        "def size(self):\n",
        "  return len(self)\n",
        "\n",
        "LinkedList.__len__, LinkedList.size = __len__, size"
      ],
      "execution_count": null,
      "outputs": []
    },
    {
      "cell_type": "code",
      "metadata": {
        "id": "WL_7kYb2su99"
      },
      "source": [
        "l = LinkedList()\n",
        "print(len(l))\n",
        "l.add(1)\n",
        "print(len(l))"
      ],
      "execution_count": null,
      "outputs": []
    },
    {
      "cell_type": "code",
      "metadata": {
        "id": "CwjZtf_StV8z"
      },
      "source": [
        "def search(self, item):\n",
        "  try:\n",
        "    self.index(item)\n",
        "    return True\n",
        "  except ValueError:\n",
        "    return False\n",
        "\n",
        "def index(self, item):\n",
        "  current, idx = self.head, 0\n",
        "\n",
        "  while True:\n",
        "    if current is None:\n",
        "      raise ValueError(f\"{item} not in list\")\n",
        "    else:\n",
        "      if current.get_data() == item:\n",
        "        return idx\n",
        "      else:\n",
        "        idx += 1\n",
        "        current = current.get_next()\n",
        "  \n",
        "\n",
        "LinkedList.search, LinkedList.index = search, index"
      ],
      "execution_count": null,
      "outputs": []
    },
    {
      "cell_type": "code",
      "metadata": {
        "id": "iwZJI5C2uexi"
      },
      "source": [
        "l = LinkedList()\n",
        "l.add(\"lmao\"); l.add(\"ayy\")\n",
        "l.index(\"lmao\")"
      ],
      "execution_count": null,
      "outputs": []
    },
    {
      "cell_type": "code",
      "metadata": {
        "id": "bRyAGBmqu2lP"
      },
      "source": [
        "l.search(2), l.search(\"ayy\")"
      ],
      "execution_count": null,
      "outputs": []
    },
    {
      "cell_type": "code",
      "metadata": {
        "id": "srTgGJmDxEpc"
      },
      "source": [
        "def __str__(self):\n",
        "  current = self.head\n",
        "  out = \"[\"\n",
        "  while current is not None:\n",
        "    out += str(current.get_data()) + \",\"\n",
        "    current = current.get_next()\n",
        "  out += \"]\"\n",
        "  return out\n",
        "\n",
        "LinkedList.__str__, LinkedList.__repr__ = __str__, __str__"
      ],
      "execution_count": null,
      "outputs": []
    },
    {
      "cell_type": "code",
      "metadata": {
        "id": "ZlFTyVpLxk3N"
      },
      "source": [
        "l = LinkedList(); l.add(\"lmao\"); l.add(\"ayy\")\n",
        "l"
      ],
      "execution_count": null,
      "outputs": []
    },
    {
      "cell_type": "code",
      "metadata": {
        "id": "bY6sYmGrvWL2"
      },
      "source": [
        "def remove(self, item):\n",
        "  current = self.head\n",
        "  previous = None\n",
        "\n",
        "  while True:\n",
        "    try:\n",
        "      if current.get_data() == item:\n",
        "        if previous is not None:\n",
        "          previous.set_next(current.get_next())\n",
        "        else:\n",
        "          self.head = None\n",
        "          return\n",
        "      else:\n",
        "        previous, current = current, previous.get_next()\n",
        "    except AttributeError:\n",
        "      raise ValueError(f\"{item} not in list\")\n",
        "\n",
        "LinkedList.remove = remove"
      ],
      "execution_count": null,
      "outputs": []
    },
    {
      "cell_type": "code",
      "metadata": {
        "id": "9c5pAi7awSSe"
      },
      "source": [
        "l = LinkedList(); l.add(\"ayy\")\n",
        "\n",
        "l.remove(\"ayy\")\n",
        "l, l.search(\"ayy\")"
      ],
      "execution_count": null,
      "outputs": []
    },
    {
      "cell_type": "code",
      "metadata": {
        "id": "95CbIHXUySo1"
      },
      "source": [
        "def append(self, item):\n",
        "  if self.head is None:\n",
        "    self.add(item)\n",
        "    return\n",
        "\n",
        "  previous, current = None, self.head\n",
        "  while current is not None:\n",
        "    previous, current = current, current.get_next()\n",
        "\n",
        "  tmp = Node(item)\n",
        "  previous.set_next(tmp)\n",
        "\n",
        "LinkedList.append = append"
      ],
      "execution_count": null,
      "outputs": []
    },
    {
      "cell_type": "code",
      "metadata": {
        "id": "uo7t38XszdW9"
      },
      "source": [
        "l = LinkedList(); l.add(\"ayy\")\n",
        "l.append(\"lmao\")\n",
        "l"
      ],
      "execution_count": null,
      "outputs": []
    },
    {
      "cell_type": "code",
      "metadata": {
        "id": "XIzEAHsyzp4T"
      },
      "source": [
        "def insert(self, index, item):\n",
        "  assert isinstance(index, int)\n",
        "  length = len(self)\n",
        "  assert length >= index >= 0\n",
        "\n",
        "  if index == 0:\n",
        "    self.add(item)\n",
        "  elif index == length:\n",
        "    self.append(item)\n",
        "  else:\n",
        "    tmp = Node(item)\n",
        "    previous, current, current_index = None, self.head, 0\n",
        "    while current_index < index:\n",
        "      current_index += 1\n",
        "      previous, current = current, current.get_next()\n",
        "    previous.set_next(tmp)\n",
        "    tmp.set_next(current)\n",
        "\n",
        "LinkedList.insert = insert"
      ],
      "execution_count": null,
      "outputs": []
    },
    {
      "cell_type": "code",
      "metadata": {
        "id": "AqN0dgGi4lYX"
      },
      "source": [
        "l = LinkedList()\n",
        "l.add(\"ayy\");\n",
        "l.insert(1, \"lmao\");\n",
        "l.insert(1, \"and i cannot emphasize this enough\")\n",
        "l"
      ],
      "execution_count": null,
      "outputs": []
    },
    {
      "cell_type": "code",
      "metadata": {
        "id": "gZi1Gxjj-zsb"
      },
      "source": [
        "def __getitem__(self, index):\n",
        "  assert isinstance(index, int)\n",
        "  length = len(self)\n",
        "  assert length > index >= 0\n",
        "\n",
        "  current, current_index = self.head, 0\n",
        "\n",
        "  while current_index < index:\n",
        "    current = current.get_next()\n",
        "    current_index += 1\n",
        "\n",
        "  return current.get_data()\n",
        "\n",
        "LinkedList.__getitem__ = __getitem__"
      ],
      "execution_count": null,
      "outputs": []
    },
    {
      "cell_type": "code",
      "metadata": {
        "id": "_0rp6zwy_-aq"
      },
      "source": [
        "l = LinkedList(); l.add(1)\n",
        "l[0]"
      ],
      "execution_count": null,
      "outputs": []
    }
  ]
}