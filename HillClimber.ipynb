{
  "nbformat": 4,
  "nbformat_minor": 0,
  "metadata": {
    "colab": {
      "name": "HillClimber.ipynb",
      "private_outputs": true,
      "provenance": [],
      "collapsed_sections": [],
      "authorship_tag": "ABX9TyOhH6hm7mG3E6cHS9QrhKPr",
      "include_colab_link": true
    },
    "kernelspec": {
      "name": "python3",
      "display_name": "Python 3"
    },
    "language_info": {
      "name": "python"
    }
  },
  "cells": [
    {
      "cell_type": "markdown",
      "metadata": {
        "id": "view-in-github",
        "colab_type": "text"
      },
      "source": [
        "<a href=\"https://colab.research.google.com/github/charlesfrye/data-structures/blob/main/HillClimber.ipynb\" target=\"_parent\"><img src=\"https://colab.research.google.com/assets/colab-badge.svg\" alt=\"Open In Colab\"/></a>"
      ]
    },
    {
      "cell_type": "markdown",
      "metadata": {
        "id": "JwJci95GBgpQ"
      },
      "source": [
        "This notebook randomly generates strings to match a target -- in this case, a short Shakespeare sentence.\n",
        "\n",
        "The fully random algorithm runs in exponential time,\n",
        "while the hill climber runs much faster (linear?)."
      ]
    },
    {
      "cell_type": "code",
      "metadata": {
        "id": "_NDM7YcKT1W8"
      },
      "source": [
        "!pip install wandb"
      ],
      "execution_count": null,
      "outputs": []
    },
    {
      "cell_type": "code",
      "metadata": {
        "id": "c-C2e-g5T27p"
      },
      "source": [
        "!wandb login"
      ],
      "execution_count": null,
      "outputs": []
    },
    {
      "cell_type": "code",
      "metadata": {
        "id": "GxIgv2zJO9MI"
      },
      "source": [
        "import math\n",
        "import random\n",
        "import string"
      ],
      "execution_count": null,
      "outputs": []
    },
    {
      "cell_type": "code",
      "metadata": {
        "id": "dB53xRezUmjv"
      },
      "source": [
        "import wandb"
      ],
      "execution_count": null,
      "outputs": []
    },
    {
      "cell_type": "code",
      "metadata": {
        "id": "AybgcgR9OQ40"
      },
      "source": [
        "TARGET = \"methinks it is like a weasel\"\n",
        "letters = string.ascii_lowercase + \" \"\n",
        "\n",
        "def iterate(candidate, target=TARGET):\n",
        "  new_candidate = update(candidate, target)\n",
        "  return new_candidate\n",
        "\n",
        "def score(candidate, target=TARGET):\n",
        "  return sum(match(candidate, target))\n",
        "\n",
        "def match(candidate, target=TARGET):\n",
        "  return [char_s == char_t for char_s, char_t in zip(candidate, target)]\n",
        "\n",
        "def smart_update(candidate, target=TARGET):\n",
        "  is_matchings = match(candidate, target)\n",
        "  rand_chars = random_guess(target)\n",
        "  return \"\".join(char if is_matching else random_char() for\n",
        "                 char, is_matching in zip(candidate, is_matchings))\n",
        "\n",
        "def random_guess(candidate, target=TARGET):\n",
        "  return \"\".join(random.choices(letters, k=len(target)))\n",
        "\n",
        "def random_char():\n",
        "  return random.choice(letters)"
      ],
      "execution_count": null,
      "outputs": []
    },
    {
      "cell_type": "code",
      "metadata": {
        "id": "AD5jrOGePJ8Y"
      },
      "source": [
        "for seed in range(100):\n",
        "\n",
        "  config = {\"method\": \"hill-climb\",\n",
        "            \"target\": TARGET,\n",
        "            \"max_iters\": 1e5,\n",
        "            \"seed\": seed}\n",
        "\n",
        "  with wandb.init(project=\"monkeys\", config=config, mode=\"online\") as run:\n",
        "    random.seed(wandb.config.seed)\n",
        "    if wandb.config.method == \"hill-climb\":\n",
        "      update = smart_update\n",
        "    elif wandb.config.method == \"random\":\n",
        "      update = random_guess\n",
        "\n",
        "    tbl = wandb.Table(\n",
        "      columns=[\"score\", \"string\", \"update_index\", \"counter\"])\n",
        "    \n",
        "    candidate = random_guess(\"\", TARGET)\n",
        "    counter, update_index = 0, -1\n",
        "    best_score = -math.inf\n",
        "    best_candidate = candidate\n",
        "\n",
        "    while counter <= wandb.config.max_iters:\n",
        "      _score = score(candidate)\n",
        "      if _score > best_score:\n",
        "        best_score = _score\n",
        "        best_candidate = candidate\n",
        "        update_index += 1\n",
        "        run.log({\n",
        "            \"best_score\": best_score,\n",
        "            \"update_index\": update_index,\n",
        "            \"counter\": counter})\n",
        "        print(best_candidate, best_score)\n",
        "        tbl.add_data(best_score, candidate, update_index, counter)\n",
        "      if _score == len(TARGET):\n",
        "        break\n",
        "      \n",
        "      candidate = iterate(candidate)\n",
        "      counter += 1\n",
        "    run.log({\"progress\": tbl})"
      ],
      "execution_count": null,
      "outputs": []
    }
  ]
}