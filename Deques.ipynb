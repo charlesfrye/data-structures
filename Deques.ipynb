{
  "nbformat": 4,
  "nbformat_minor": 0,
  "metadata": {
    "colab": {
      "name": "Deques.ipynb",
      "private_outputs": true,
      "provenance": [],
      "collapsed_sections": [],
      "authorship_tag": "ABX9TyO5XWFF8ocAzbwkCr7xhyM5",
      "include_colab_link": true
    },
    "kernelspec": {
      "name": "python3",
      "display_name": "Python 3"
    },
    "language_info": {
      "name": "python"
    }
  },
  "cells": [
    {
      "cell_type": "markdown",
      "metadata": {
        "id": "view-in-github",
        "colab_type": "text"
      },
      "source": [
        "<a href=\"https://colab.research.google.com/github/charlesfrye/data-structures/blob/main/Deques.ipynb\" target=\"_parent\"><img src=\"https://colab.research.google.com/assets/colab-badge.svg\" alt=\"Open In Colab\"/></a>"
      ]
    },
    {
      "cell_type": "markdown",
      "metadata": {
        "id": "8rmAsDPVEqmb"
      },
      "source": [
        "This notebook uses the built-in Python deque\n",
        "(`d`ouble-`e`nded `que`ue)\n",
        "for two simple tasks:\n",
        "palindrome detection and a game of hot potato."
      ]
    },
    {
      "cell_type": "code",
      "metadata": {
        "id": "2pRs3MILn0wr"
      },
      "source": [
        "from collections import deque"
      ],
      "execution_count": null,
      "outputs": []
    },
    {
      "cell_type": "code",
      "metadata": {
        "id": "U6PwhewJn32h"
      },
      "source": [
        "def palincheck(strng):\n",
        "  deq = deque(strng)\n",
        "  while True:\n",
        "    try:\n",
        "      if deq.pop() != deq.popleft():\n",
        "        return False\n",
        "    except IndexError:\n",
        "      break\n",
        "  return True"
      ],
      "execution_count": null,
      "outputs": []
    },
    {
      "cell_type": "code",
      "metadata": {
        "id": "4tHmJGX3p0ZK"
      },
      "source": [
        "def hot_potato(names, num):\n",
        "  deq = deque(reversed(names))\n",
        "\n",
        "  while len(deq) > 1:\n",
        "    deq.rotate(num)\n",
        "\n",
        "    deq.pop()\n",
        "\n",
        "  return deq.pop()"
      ],
      "execution_count": null,
      "outputs": []
    },
    {
      "cell_type": "code",
      "metadata": {
        "id": "7lENQKYFqBnP"
      },
      "source": [
        "hot_potato([\"Bill\", \"David\", \"Susan\", \"Jane\", \"Kent\", \"Brad\"], 7)"
      ],
      "execution_count": null,
      "outputs": []
    }
  ]
}