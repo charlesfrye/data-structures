{
  "nbformat": 4,
  "nbformat_minor": 0,
  "metadata": {
    "colab": {
      "name": "Ordinals.ipynb",
      "private_outputs": true,
      "provenance": [],
      "collapsed_sections": [],
      "authorship_tag": "ABX9TyNnjrEF4xcQUnwIfocs+ZSF",
      "include_colab_link": true
    },
    "kernelspec": {
      "name": "python3",
      "display_name": "Python 3"
    },
    "language_info": {
      "name": "python"
    }
  },
  "cells": [
    {
      "cell_type": "markdown",
      "metadata": {
        "id": "view-in-github",
        "colab_type": "text"
      },
      "source": [
        "<a href=\"https://colab.research.google.com/github/charlesfrye/data-structures/blob/main/Ordinals.ipynb\" target=\"_parent\"><img src=\"https://colab.research.google.com/assets/colab-badge.svg\" alt=\"Open In Colab\"/></a>"
      ]
    },
    {
      "cell_type": "markdown",
      "metadata": {
        "id": "5oSZvJG3Gn1H"
      },
      "source": [
        "This notebook implements some basic arithmetic on two set-theoretic models of the naturals (due to Zermelo and Von Neumann)\n",
        "using the Python `frozenset` class."
      ]
    },
    {
      "cell_type": "code",
      "metadata": {
        "id": "ufEve-lwvmfF"
      },
      "source": [
        "class Zermelo(object):\n",
        "\n",
        "  def __init__(self, fs):\n",
        "    self.set = fs\n",
        "\n",
        "  @classmethod\n",
        "  def fromint(cls, k):\n",
        "    assert isinstance(k, int)\n",
        "    assert k > -1\n",
        "    nat = Zermelo(frozenset())\n",
        "    while k > 0:\n",
        "      k -= 1\n",
        "      nat = nat.succ()\n",
        "    return nat\n",
        "\n",
        "  def succ(self):\n",
        "    return Zermelo(frozenset((self.set,)))\n",
        "\n",
        "  def pred(self):\n",
        "    try:\n",
        "      return Zermelo(set(self.set).pop())\n",
        "    except KeyError:\n",
        "      raise ValueError(f\"{Zermelo(self.set)} has no pred\")\n",
        "  \n",
        "  def __repr__(self):\n",
        "    fs = self.set\n",
        "    out = ()\n",
        "    while not fs <= set():\n",
        "      out = (out,)\n",
        "      fs = set(fs).pop()\n",
        "    return str(out).replace(\"(\", \"{\").replace(\")\", \"}\")\n",
        "\n",
        "  def __hash__(self):\n",
        "    return self.set.__hash__()\n",
        "\n",
        "  def __add__(self, other):\n",
        "    if not isinstance(other, Zermelo):\n",
        "      raise NotImplementedError\n",
        "    if other.set <= set():\n",
        "      return self\n",
        "    else:\n",
        "      return self.succ() + other.pred()"
      ],
      "execution_count": null,
      "outputs": []
    },
    {
      "cell_type": "code",
      "metadata": {
        "id": "T0bx1rb6w9MO"
      },
      "source": [
        "n = Zermelo.fromint(1)"
      ],
      "execution_count": null,
      "outputs": []
    },
    {
      "cell_type": "code",
      "metadata": {
        "id": "Ug2T5enU22T0"
      },
      "source": [
        "# define maps as dictionaries\n",
        "\n",
        "swap_map = {Zermelo.fromint(0): Zermelo.fromint(1),\n",
        "            Zermelo.fromint(1): Zermelo.fromint(0)}"
      ],
      "execution_count": null,
      "outputs": []
    },
    {
      "cell_type": "code",
      "metadata": {
        "id": "pUb5z9V43HnF"
      },
      "source": [
        "swap_map"
      ],
      "execution_count": null,
      "outputs": []
    },
    {
      "cell_type": "code",
      "metadata": {
        "id": "fvzUzUhdGVP4"
      },
      "source": [
        "n + Zermelo.fromint(2)"
      ],
      "execution_count": null,
      "outputs": []
    },
    {
      "cell_type": "code",
      "metadata": {
        "id": "7CFKrWE16TV1"
      },
      "source": [
        "class VonNeumann(frozenset):\n",
        "\n",
        "  @classmethod\n",
        "  def fromint(cls, k):\n",
        "    assert isinstance(k, int)\n",
        "    assert k > -1\n",
        "    out = VonNeumann()\n",
        "    while k > 0:\n",
        "      k -= 1\n",
        "      out = out.succ()\n",
        "    return out\n",
        "\n",
        "  def succ(self):\n",
        "    return VonNeumann(self | VonNeumann((self,)))\n",
        "\n",
        "  def pred(self):\n",
        "    assert not self <= set(), f\"{VonNeumann()} has no pred\"\n",
        "    out, next = VonNeumann(), VonNeumann().succ()\n",
        "    while next != self:\n",
        "      out, next = next, next.succ()\n",
        "    return out\n",
        "\n",
        "  def __repr__(self):\n",
        "    out, out_set = (), VonNeumann()\n",
        "    while not out_set == self:\n",
        "      out = ((out), *out)\n",
        "      out_set = out_set.succ()\n",
        "\n",
        "    return str(out).replace(\"(\", \"{\").replace(\")\", \"}\")\n",
        "\n",
        "  def __add__(self, other):\n",
        "    if not isinstance(other, VonNeumann):\n",
        "      raise NotImplementedError\n",
        "    if other <= set():\n",
        "      return self\n",
        "    else:\n",
        "      return self.succ() + other.pred()"
      ],
      "execution_count": null,
      "outputs": []
    },
    {
      "cell_type": "code",
      "metadata": {
        "id": "zakn1RRf6xLG"
      },
      "source": [
        "(VonNeumann.fromint(0) <= VonNeumann.fromint(1),\n",
        "  VonNeumann.fromint(1) <= VonNeumann.fromint(0))"
      ],
      "execution_count": null,
      "outputs": []
    },
    {
      "cell_type": "code",
      "metadata": {
        "id": "QpYm6CeTFx_0"
      },
      "source": [
        "VonNeumann.fromint(3) + VonNeumann.fromint(1)"
      ],
      "execution_count": null,
      "outputs": []
    },
    {
      "cell_type": "code",
      "metadata": {
        "id": "3ssgTTN797J5"
      },
      "source": [
        "VonNeumann.fromint(2).succ().pred()"
      ],
      "execution_count": null,
      "outputs": []
    },
    {
      "cell_type": "code",
      "metadata": {
        "id": "vlA9aPeX9Y0m"
      },
      "source": [
        "VonNeumann.fromint(3)"
      ],
      "execution_count": null,
      "outputs": []
    },
    {
      "cell_type": "code",
      "metadata": {
        "id": "ImRe4ZQA63Ye"
      },
      "source": [
        "# define maps as dictionaries\n",
        "swap_map = {VonNeumann.fromint(0): VonNeumann.fromint(1),\n",
        "            VonNeumann.fromint(1): VonNeumann.fromint(0)}"
      ],
      "execution_count": null,
      "outputs": []
    },
    {
      "cell_type": "code",
      "metadata": {
        "id": "fBq0htvX6-lm"
      },
      "source": [
        "assert swap_map[VonNeumann.fromint(0) + VonNeumann.fromint(1)] <= set()"
      ],
      "execution_count": null,
      "outputs": []
    }
  ]
}